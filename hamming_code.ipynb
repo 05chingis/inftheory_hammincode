{
 "cells": [
  {
   "cell_type": "code",
   "execution_count": 1,
   "metadata": {},
   "outputs": [],
   "source": [
    "with open('Text1.txt', 'r') as file:\n",
    "    TextReader = file.read().strip()"
   ]
  },
  {
   "cell_type": "code",
   "execution_count": 2,
   "metadata": {},
   "outputs": [
    {
     "data": {
      "text/plain": [
       "'10101000000011110001001011001001110'"
      ]
     },
     "execution_count": 2,
     "metadata": {},
     "output_type": "execute_result"
    }
   ],
   "source": [
    "TextReader"
   ]
  },
  {
   "cell_type": "markdown",
   "metadata": {},
   "source": [
    "## Hamming code(15,11)"
   ]
  },
  {
   "cell_type": "code",
   "execution_count": 3,
   "metadata": {},
   "outputs": [],
   "source": [
    "x='11101111100'"
   ]
  },
  {
   "cell_type": "code",
   "execution_count": 4,
   "metadata": {},
   "outputs": [],
   "source": [
    "def Hamming15(x):\n",
    "    d3=int(x[0])\n",
    "    d5=int(x[1])\n",
    "    d6=int(x[2])\n",
    "    d7=int(x[3])\n",
    "    d9=int(x[4])\n",
    "    d10=int(x[5])\n",
    "    d11=int(x[6])\n",
    "    d12=int(x[7])\n",
    "    d13=int(x[8])\n",
    "    d14=int(x[9])\n",
    "    d15=int(x[10])\n",
    "    p1 = (d3 + d5 + d7 + d9 + d11+ d13 + d15) % 2\n",
    "    p2 = (d3 + d6 + d7 + d10 + d11 + d14 + d15) % 2\n",
    "    p4 = (d5 + d6 + d7 + d12 +d13+ d14 + d15) % 2\n",
    "    p8 = (d9 +d10 +d11+ d12 + d13 + d14 + d15) % 2\n",
    "    p0 = (p1+ p2 + d3 + p4 +d5 +d6+ d7+ p8+ d9+ d10 +d11 +d12 +d13 +d14 + d15 ) % 2\n",
    "    return str(p0)+str(p1)+str(p2)+str(d3)+str(p4)+str(d5)+str(d6)+str(d7)+str(p8)+str(d9)+str(d10)+str(d11)+str(d12)+str(d13)+str(d14)+str(d15)\n"
   ]
  },
  {
   "cell_type": "code",
   "execution_count": 5,
   "metadata": {},
   "outputs": [
    {
     "data": {
      "text/plain": [
       "'0101011011111100'"
      ]
     },
     "execution_count": 5,
     "metadata": {},
     "output_type": "execute_result"
    }
   ],
   "source": [
    "Hamming15(x)"
   ]
  },
  {
   "cell_type": "markdown",
   "metadata": {},
   "source": [
    "## Hamming code(7,4)"
   ]
  },
  {
   "cell_type": "code",
   "execution_count": 6,
   "metadata": {},
   "outputs": [],
   "source": [
    "x2='1110'"
   ]
  },
  {
   "cell_type": "code",
   "execution_count": 7,
   "metadata": {},
   "outputs": [],
   "source": [
    "def Hamming7(x2):\n",
    "    d3=bool(int(x2[0]))\n",
    "    d5=bool(int(x2[1]))\n",
    "    d6=bool(int(x2[2]))\n",
    "    d7=bool(int(x2[3]))\n",
    "    p1 = int(d3 ^ d5 ^ d7) \n",
    "    p2 = int(d3 ^ d6 ^ d7) \n",
    "    p4 = int(d5 ^ d6 ^ d7) \n",
    "    p0 = int(p1 ^ p2 ^ d3 ^ p4 ^ d5 ^ d6 ^ d7)\n",
    "    return str(p0)+str(p1)+str(p2)+x2[0]+str(p4)+x2[1]+x2[2]+x2[3]"
   ]
  },
  {
   "cell_type": "code",
   "execution_count": 8,
   "metadata": {},
   "outputs": [
    {
     "data": {
      "text/plain": [
       "'10010110'"
      ]
     },
     "execution_count": 8,
     "metadata": {},
     "output_type": "execute_result"
    }
   ],
   "source": [
    "Hamming7(x2)"
   ]
  },
  {
   "cell_type": "markdown",
   "metadata": {},
   "source": [
    "## Hamming code(15,11) function"
   ]
  },
  {
   "cell_type": "code",
   "execution_count": 30,
   "metadata": {},
   "outputs": [],
   "source": [
    "def Encode15(TextReader):\n",
    "    e=''\n",
    "    while len(TextReader) >= 11:\n",
    "        lim = TextReader[0:11]\n",
    "        e+=Hamming15(lim)\n",
    "        TextReader = TextReader[11:]\n",
    "        Encode15(TextReader)\n",
    "    return e    "
   ]
  },
  {
   "cell_type": "code",
   "execution_count": 31,
   "metadata": {},
   "outputs": [
    {
     "data": {
      "text/plain": [
       "'100110101100000010000111010001001001001110010011'"
      ]
     },
     "execution_count": 31,
     "metadata": {},
     "output_type": "execute_result"
    }
   ],
   "source": [
    "string15=Encode15(TextReader)\n",
    "string15"
   ]
  },
  {
   "cell_type": "code",
   "execution_count": 32,
   "metadata": {},
   "outputs": [],
   "source": [
    "text_file = open(\"Text15.txt\", \"w\")\n",
    "text_file.write(string15)\n",
    "text_file.close()"
   ]
  },
  {
   "cell_type": "markdown",
   "metadata": {},
   "source": [
    "## Hamming code(15,11) function"
   ]
  },
  {
   "cell_type": "code",
   "execution_count": 23,
   "metadata": {},
   "outputs": [
    {
     "data": {
      "text/plain": [
       "'10101000000011110001001011001001110'"
      ]
     },
     "execution_count": 23,
     "metadata": {},
     "output_type": "execute_result"
    }
   ],
   "source": [
    "TextReader"
   ]
  },
  {
   "cell_type": "code",
   "execution_count": 27,
   "metadata": {},
   "outputs": [],
   "source": [
    "\n",
    "def Encode7(TextReader):\n",
    "    e=''\n",
    "    while len(TextReader) >= 4:\n",
    "        lim = TextReader[0:4]\n",
    "        e+=Hamming7(lim)\n",
    "        TextReader = TextReader[4:]\n",
    "        Encode7(TextReader)\n",
    "    return e   "
   ]
  },
  {
   "cell_type": "code",
   "execution_count": 28,
   "metadata": {},
   "outputs": [
    {
     "data": {
      "text/plain": [
       "'0101101011110000000000001111111101101001101010100011110010011001'"
      ]
     },
     "execution_count": 28,
     "metadata": {},
     "output_type": "execute_result"
    }
   ],
   "source": [
    "string7=Encode7(TextReader)\n",
    "string7"
   ]
  },
  {
   "cell_type": "code",
   "execution_count": 29,
   "metadata": {},
   "outputs": [],
   "source": [
    "text_file = open(\"Text7.txt\", \"w\")\n",
    "text_file.write(string7)\n",
    "text_file.close()"
   ]
  },
  {
   "cell_type": "code",
   "execution_count": null,
   "metadata": {},
   "outputs": [],
   "source": []
  }
 ],
 "metadata": {
  "kernelspec": {
   "display_name": "Python 3",
   "language": "python",
   "name": "python3"
  },
  "language_info": {
   "codemirror_mode": {
    "name": "ipython",
    "version": 3
   },
   "file_extension": ".py",
   "mimetype": "text/x-python",
   "name": "python",
   "nbconvert_exporter": "python",
   "pygments_lexer": "ipython3",
   "version": "3.8.3"
  }
 },
 "nbformat": 4,
 "nbformat_minor": 4
}
